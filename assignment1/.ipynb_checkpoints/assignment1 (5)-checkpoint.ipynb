{
 "cells": [
  {
   "cell_type": "markdown",
   "metadata": {},
   "source": [
    "## Assignment 1"
   ]
  },
  {
   "cell_type": "markdown",
   "metadata": {},
   "source": [
    "Student Name: 徐一丁\n",
    "\n",
    "Student id: 11410491\n",
    "***"
   ]
  },
  {
   "cell_type": "markdown",
   "metadata": {},
   "source": [
    "### Question 1: Dealing with data Pythonically"
   ]
  },
  {
   "cell_type": "code",
   "execution_count": 1,
   "metadata": {},
   "outputs": [],
   "source": [
    "# You might find these packages useful. You may import any others you want!\n",
    "import pandas as pd\n",
    "import numpy as np\n",
    "ads_dataset = pd.read_csv(\"data/ads_dataset.tsv\")"
   ]
  },
  {
   "cell_type": "markdown",
   "metadata": {},
   "source": [
    "1\\. The file `\"data/ads_dataset.tsv\"` uses tabs instead of commas to separate fields. Load the data set `\"data/ads_dataset.tsv\"` into a Python `pandas` data frame called `ads`. If you are using the `read_csv()` function you will need to know that `\"\\t\"` means tab when trying to set the delimeter."
   ]
  },
  {
   "cell_type": "code",
   "execution_count": 6,
   "metadata": {},
   "outputs": [
    {
     "data": {
      "text/plain": [
       "<bound method NDFrame.describe of       isbuyer\\tbuy_freq\\tvisit_freq\\tbuy_interval\\tsv_interval\\texpected_time_buy\\texpected_time_visit\\tlast_buy\\tlast_visit\\tmultiple_buy\\tmultiple_visit\\tuniq_urls\\tnum_checkins\\ty_buy\n",
       "0      \\t0\\tNaN\\t1\\t0\\t0\\t0\\t0\\t106\\t106\\t0\\t0\\t169\\t...                                                                                                                                  \n",
       "1      \\t0\\tNaN\\t1\\t0\\t0\\t0\\t0\\t72\\t72\\t0\\t0\\t154\\t11...                                                                                                                                  \n",
       "2          \\t0\\tNaN\\t1\\t0\\t0\\t0\\t0\\t5\\t5\\t0\\t0\\t4\\t12\\t0                                                                                                                                  \n",
       "3       \\t0\\tNaN\\t1\\t0\\t0\\t0\\t0\\t6\\t6\\t0\\t0\\t150\\t539\\t0                                                                                                                                  \n",
       "4      \\t0\\tNaN\\t2\\t0\\t.5\\t0\\t-101.1493\\t101\\t101\\t0\\...                                                                                                                                  \n",
       "5       \\t0\\tNaN\\t1\\t0\\t0\\t0\\t0\\t42\\t42\\t0\\t0\\t17\\t35\\t0                                                                                                                                  \n",
       "6      \\t0\\tNaN\\t1\\t0\\t0\\t0\\t0\\t42\\t42\\t0\\t0\\t42\\t110\\t0                                                                                                                                  \n",
       "7      \\t0\\tNaN\\t2\\t0\\t29.79167\\t0\\t-106.1883\\t121\\t1...                                                                                                                                  \n",
       "8      \\t0\\tNaN\\t3\\t0\\t45.47917\\t0\\t-34.14473\\t64\\t64...                                                                                                                                  \n",
       "9      \\t0\\tNaN\\t1\\t0\\t0\\t0\\t0\\t13\\t13\\t0\\t0\\t53\\t247\\t0                                                                                                                                  \n",
       "10     \\t1\\t1\\t2\\t0\\t.9583333\\t0\\t-20.6712\\t21\\t21\\t0...                                                                                                                                  \n",
       "11     \\t0\\tNaN\\t2\\t0\\t21.33333\\t0\\t-108.323\\t118\\t11...                                                                                                                                  \n",
       "12     \\t0\\tNaN\\t1\\t0\\t0\\t0\\t0\\t151\\t151\\t0\\t0\\t24\\t1...                                                                                                                                  \n",
       "13      \\t0\\tNaN\\t1\\t0\\t0\\t0\\t0\\t19\\t19\\t0\\t0\\t16\\t48\\t0                                                                                                                                  \n",
       "14     \\t0\\tNaN\\t1\\t0\\t0\\t0\\t0\\t81\\t81\\t0\\t0\\t32\\t177\\t0                                                                                                                                  \n",
       "15     \\t0\\tNaN\\t1\\t0\\t0\\t0\\t0\\t68\\t68\\t0\\t0\\t64\\t305\\t0                                                                                                                                  \n",
       "16     \\t0\\tNaN\\t1\\t0\\t0\\t0\\t0\\t36\\t36\\t0\\t0\\t76\\t163\\t0                                                                                                                                  \n",
       "17     \\t0\\tNaN\\t2\\t0\\t15.95833\\t0\\t-6.683471\\t14\\t14...                                                                                                                                  \n",
       "18      \\t0\\tNaN\\t1\\t0\\t0\\t0\\t0\\t19\\t19\\t0\\t0\\t30\\t76\\t0                                                                                                                                  \n",
       "19     \\t0\\tNaN\\t1\\t0\\t0\\t0\\t0\\t70\\t70\\t0\\t0\\t168\\t13...                                                                                                                                  \n",
       "20     \\t0\\tNaN\\t2\\t0\\t27.25\\t0\\t-124.61\\t138\\t138\\t0...                                                                                                                                  \n",
       "21     \\t0\\tNaN\\t2\\t0\\t133.125\\t0\\t50.47409\\t16\\t16\\t...                                                                                                                                  \n",
       "22     \\t0\\tNaN\\t3\\t0\\t8.395833\\t0\\t2.534722\\t3\\t3\\t0...                                                                                                                                  \n",
       "23        \\t0\\tNaN\\t1\\t0\\t0\\t0\\t0\\t9\\t9\\t0\\t0\\t-1\\t26\\t0                                                                                                                                  \n",
       "24     \\t0\\tNaN\\t1\\t0\\t0\\t0\\t0\\t145\\t145\\t0\\t0\\t179\\t...                                                                                                                                  \n",
       "25     \\t0\\tNaN\\t8\\t0\\t15.99405\\t0\\t12.56926\\t1\\t1\\t0...                                                                                                                                  \n",
       "26     \\t0\\tNaN\\t1\\t0\\t0\\t0\\t0\\t39\\t39\\t0\\t0\\t165\\t38...                                                                                                                                  \n",
       "27     \\t0\\tNaN\\t1\\t0\\t0\\t0\\t0\\t34\\t34\\t0\\t0\\t96\\t219\\t0                                                                                                                                  \n",
       "28     \\t0\\tNaN\\t1\\t0\\t0\\t0\\t0\\t135\\t135\\t0\\t0\\t143\\t...                                                                                                                                  \n",
       "29     \\t0\\tNaN\\t1\\t0\\t0\\t0\\t0\\t77\\t77\\t0\\t0\\t81\\t219\\t0                                                                                                                                  \n",
       "...                                                  ...                                                                                                                                  \n",
       "54554     \\t0\\tNaN\\t1\\t0\\t0\\t0\\t0\\t6\\t6\\t0\\t0\\t0\\t182\\t0                                                                                                                                  \n",
       "54555  \\t0\\tNaN\\t1\\t0\\t0\\t0\\t0\\t44\\t44\\t0\\t0\\t84\\t139\\t0                                                                                                                                  \n",
       "54556  \\t0\\tNaN\\t1\\t0\\t0\\t0\\t0\\t85\\t85\\t0\\t0\\t169\\t27...                                                                                                                                  \n",
       "54557   \\t0\\tNaN\\t1\\t0\\t0\\t0\\t0\\t49\\t49\\t0\\t0\\t18\\t45\\t0                                                                                                                                  \n",
       "54558  \\t0\\tNaN\\t1\\t0\\t0\\t0\\t0\\t30\\t30\\t0\\t0\\t53\\t506\\t0                                                                                                                                  \n",
       "54559  \\t0\\tNaN\\t1\\t0\\t0\\t0\\t0\\t10\\t10\\t0\\t0\\t109\\t11...                                                                                                                                  \n",
       "54560   \\t0\\tNaN\\t1\\t0\\t0\\t0\\t0\\t77\\t77\\t0\\t0\\t11\\t38\\t0                                                                                                                                  \n",
       "54561    \\t0\\tNaN\\t1\\t0\\t0\\t0\\t0\\t14\\t14\\t0\\t0\\t9\\t87\\t0                                                                                                                                  \n",
       "54562  \\t0\\tNaN\\t3\\t0\\t28.22917\\t0\\t-7.932672\\t26\\t26...                                                                                                                                  \n",
       "54563  \\t0\\tNaN\\t1\\t0\\t0\\t0\\t0\\t48\\t48\\t0\\t0\\t39\\t139\\t0                                                                                                                                  \n",
       "54564  \\t0\\tNaN\\t1\\t0\\t0\\t0\\t0\\t38\\t38\\t0\\t0\\t26\\t117\\t0                                                                                                                                  \n",
       "54565  \\t0\\tNaN\\t1\\t0\\t0\\t0\\t0\\t70\\t70\\t0\\t0\\t171\\t50...                                                                                                                                  \n",
       "54566  \\t0\\tNaN\\t2\\t0\\t8.541667\\t0\\t-14.23707\\t18\\t18...                                                                                                                                  \n",
       "54567  \\t0\\tNaN\\t1\\t0\\t0\\t0\\t0\\t71\\t71\\t0\\t0\\t63\\t254\\t0                                                                                                                                  \n",
       "54568  \\t0\\tNaN\\t1\\t0\\t0\\t0\\t0\\t185\\t185\\t0\\t0\\t184\\t...                                                                                                                                  \n",
       "54569  \\t0\\tNaN\\t1\\t0\\t0\\t0\\t0\\t95\\t95\\t0\\t0\\t164\\t24...                                                                                                                                  \n",
       "54570  \\t0\\tNaN\\t1\\t0\\t0\\t0\\t0\\t134\\t134\\t0\\t0\\t174\\t...                                                                                                                                  \n",
       "54571  \\t0\\tNaN\\t10\\t0\\t7.101852\\t0\\t3.137754\\t3\\t3\\t...                                                                                                                                  \n",
       "54572  \\t0\\tNaN\\t1\\t0\\t0\\t0\\t0\\t109\\t109\\t0\\t0\\t143\\t...                                                                                                                                  \n",
       "54573  \\t0\\tNaN\\t1\\t0\\t0\\t0\\t0\\t57\\t57\\t0\\t0\\t164\\t19...                                                                                                                                  \n",
       "54574  \\t0\\tNaN\\t2\\t0\\t131.0833\\t0\\t34.6785\\t30\\t30\\t...                                                                                                                                  \n",
       "54575  \\t0\\tNaN\\t1\\t0\\t0\\t0\\t0\\t181\\t181\\t0\\t0\\t22\\t1...                                                                                                                                  \n",
       "54576  \\t0\\tNaN\\t1\\t0\\t0\\t0\\t0\\t69\\t69\\t0\\t0\\t95\\t187\\t0                                                                                                                                  \n",
       "54577  \\t0\\tNaN\\t1\\t0\\t0\\t0\\t0\\t119\\t119\\t0\\t0\\t103\\t...                                                                                                                                  \n",
       "54578    \\t0\\tNaN\\t1\\t0\\t0\\t0\\t0\\t37\\t37\\t0\\t0\\t1\\t22\\t0                                                                                                                                  \n",
       "54579  \\t0\\tNaN\\t3\\t0\\t30.97917\\t0\\t12.62124\\t8\\t8\\t0...                                                                                                                                  \n",
       "54580  \\t0\\tNaN\\t2\\t0\\t1.041667\\t0\\t-.9167125\\t1\\t1\\t...                                                                                                                                  \n",
       "54581  \\t0\\tNaN\\t1\\t0\\t0\\t0\\t0\\t20\\t20\\t0\\t0\\t132\\t55...                                                                                                                                  \n",
       "54582  \\t0\\tNaN\\t1\\t0\\t0\\t0\\t0\\t180\\t180\\t0\\t0\\t71\\t4...                                                                                                                                  \n",
       "54583  \\t0\\tNaN\\t1\\t0\\t0\\t0\\t0\\t185\\t185\\t0\\t0\\t77\\t4...                                                                                                                                  \n",
       "\n",
       "[54584 rows x 1 columns]>"
      ]
     },
     "execution_count": 6,
     "metadata": {},
     "output_type": "execute_result"
    }
   ],
   "source": [
    "ads_dataset.describe"
   ]
  },
  {
   "cell_type": "markdown",
   "metadata": {},
   "source": [
    "2\\. Write a Python function called `getDfSummary()` that does the following:\n",
    "- Takes as input a data frame\n",
    "- Creates a new data frame called `output_data` that:\n",
    "  - Consists of the output of the `pandas` function `describe()`. (*Hint: Check the `pandas` [(manual page)](http://pandas.pydata.org/pandas-docs/stable/generated/pandas.DataFrame.describe.html) for this function if you want to learn more.*)\n",
    "  - The data frame `output_data` should have the original feature names from `input_data` as **rows**. (*Hint: Are they rows by default? If not, how could you make them rows?*)\n",
    "  - Adds a column called `spread` that is the result of subtracting the `min` from the `max`. (*Hint: What does the `describe()` function return? Do we have a column called `max` and `min`?*)\n",
    "- Returns the new `output_data` data frame."
   ]
  },
  {
   "cell_type": "code",
   "execution_count": 13,
   "metadata": {},
   "outputs": [],
   "source": [
    "def getDfSummary(input_data):\n",
    "    output_data = input_data.describe().transpose()\n",
    "    output_data['spread'] = output_data['max'] - output_data['min']\n",
    "\n",
    "    return output_data"
   ]
  },
  {
   "cell_type": "markdown",
   "metadata": {},
   "source": [
    "3\\. How long does it take for your `getDfSummary()` function to work on your `ads` data frame? Show us the results below.\n",
    "\n",
    "*Hint: `%timeit getDfSummary(ads)`*"
   ]
  },
  {
   "cell_type": "code",
   "execution_count": 15,
   "metadata": {},
   "outputs": [
    {
     "name": "stdout",
     "output_type": "stream",
     "text": [
      "644 ns ± 106 ns per loop (mean ± std. dev. of 7 runs, 1000000 loops each)\n"
     ]
    }
   ],
   "source": [
    "%timeit getDfSummary(ads_dataset)"
   ]
  },
  {
   "cell_type": "markdown",
   "metadata": {},
   "source": [
    "4\\. Show the output of the `getDfSummary()` function you created."
   ]
  },
  {
   "cell_type": "code",
   "execution_count": 20,
   "metadata": {},
   "outputs": [
    {
     "name": "stdout",
     "output_type": "stream",
     "text": [
      "<bound method NDFrame.describe of       isbuyer\\tbuy_freq\\tvisit_freq\\tbuy_interval\\tsv_interval\\texpected_time_buy\\texpected_time_visit\\tlast_buy\\tlast_visit\\tmultiple_buy\\tmultiple_visit\\tuniq_urls\\tnum_checkins\\ty_buy\n",
      "0      \\t0\\tNaN\\t1\\t0\\t0\\t0\\t0\\t106\\t106\\t0\\t0\\t169\\t...                                                                                                                                  \n",
      "1      \\t0\\tNaN\\t1\\t0\\t0\\t0\\t0\\t72\\t72\\t0\\t0\\t154\\t11...                                                                                                                                  \n",
      "2          \\t0\\tNaN\\t1\\t0\\t0\\t0\\t0\\t5\\t5\\t0\\t0\\t4\\t12\\t0                                                                                                                                  \n",
      "3       \\t0\\tNaN\\t1\\t0\\t0\\t0\\t0\\t6\\t6\\t0\\t0\\t150\\t539\\t0                                                                                                                                  \n",
      "4      \\t0\\tNaN\\t2\\t0\\t.5\\t0\\t-101.1493\\t101\\t101\\t0\\...                                                                                                                                  \n",
      "5       \\t0\\tNaN\\t1\\t0\\t0\\t0\\t0\\t42\\t42\\t0\\t0\\t17\\t35\\t0                                                                                                                                  \n",
      "6      \\t0\\tNaN\\t1\\t0\\t0\\t0\\t0\\t42\\t42\\t0\\t0\\t42\\t110\\t0                                                                                                                                  \n",
      "7      \\t0\\tNaN\\t2\\t0\\t29.79167\\t0\\t-106.1883\\t121\\t1...                                                                                                                                  \n",
      "8      \\t0\\tNaN\\t3\\t0\\t45.47917\\t0\\t-34.14473\\t64\\t64...                                                                                                                                  \n",
      "9      \\t0\\tNaN\\t1\\t0\\t0\\t0\\t0\\t13\\t13\\t0\\t0\\t53\\t247\\t0                                                                                                                                  \n",
      "10     \\t1\\t1\\t2\\t0\\t.9583333\\t0\\t-20.6712\\t21\\t21\\t0...                                                                                                                                  \n",
      "11     \\t0\\tNaN\\t2\\t0\\t21.33333\\t0\\t-108.323\\t118\\t11...                                                                                                                                  \n",
      "12     \\t0\\tNaN\\t1\\t0\\t0\\t0\\t0\\t151\\t151\\t0\\t0\\t24\\t1...                                                                                                                                  \n",
      "13      \\t0\\tNaN\\t1\\t0\\t0\\t0\\t0\\t19\\t19\\t0\\t0\\t16\\t48\\t0                                                                                                                                  \n",
      "14     \\t0\\tNaN\\t1\\t0\\t0\\t0\\t0\\t81\\t81\\t0\\t0\\t32\\t177\\t0                                                                                                                                  \n",
      "15     \\t0\\tNaN\\t1\\t0\\t0\\t0\\t0\\t68\\t68\\t0\\t0\\t64\\t305\\t0                                                                                                                                  \n",
      "16     \\t0\\tNaN\\t1\\t0\\t0\\t0\\t0\\t36\\t36\\t0\\t0\\t76\\t163\\t0                                                                                                                                  \n",
      "17     \\t0\\tNaN\\t2\\t0\\t15.95833\\t0\\t-6.683471\\t14\\t14...                                                                                                                                  \n",
      "18      \\t0\\tNaN\\t1\\t0\\t0\\t0\\t0\\t19\\t19\\t0\\t0\\t30\\t76\\t0                                                                                                                                  \n",
      "19     \\t0\\tNaN\\t1\\t0\\t0\\t0\\t0\\t70\\t70\\t0\\t0\\t168\\t13...                                                                                                                                  \n",
      "20     \\t0\\tNaN\\t2\\t0\\t27.25\\t0\\t-124.61\\t138\\t138\\t0...                                                                                                                                  \n",
      "21     \\t0\\tNaN\\t2\\t0\\t133.125\\t0\\t50.47409\\t16\\t16\\t...                                                                                                                                  \n",
      "22     \\t0\\tNaN\\t3\\t0\\t8.395833\\t0\\t2.534722\\t3\\t3\\t0...                                                                                                                                  \n",
      "23        \\t0\\tNaN\\t1\\t0\\t0\\t0\\t0\\t9\\t9\\t0\\t0\\t-1\\t26\\t0                                                                                                                                  \n",
      "24     \\t0\\tNaN\\t1\\t0\\t0\\t0\\t0\\t145\\t145\\t0\\t0\\t179\\t...                                                                                                                                  \n",
      "25     \\t0\\tNaN\\t8\\t0\\t15.99405\\t0\\t12.56926\\t1\\t1\\t0...                                                                                                                                  \n",
      "26     \\t0\\tNaN\\t1\\t0\\t0\\t0\\t0\\t39\\t39\\t0\\t0\\t165\\t38...                                                                                                                                  \n",
      "27     \\t0\\tNaN\\t1\\t0\\t0\\t0\\t0\\t34\\t34\\t0\\t0\\t96\\t219\\t0                                                                                                                                  \n",
      "28     \\t0\\tNaN\\t1\\t0\\t0\\t0\\t0\\t135\\t135\\t0\\t0\\t143\\t...                                                                                                                                  \n",
      "29     \\t0\\tNaN\\t1\\t0\\t0\\t0\\t0\\t77\\t77\\t0\\t0\\t81\\t219\\t0                                                                                                                                  \n",
      "...                                                  ...                                                                                                                                  \n",
      "54554     \\t0\\tNaN\\t1\\t0\\t0\\t0\\t0\\t6\\t6\\t0\\t0\\t0\\t182\\t0                                                                                                                                  \n",
      "54555  \\t0\\tNaN\\t1\\t0\\t0\\t0\\t0\\t44\\t44\\t0\\t0\\t84\\t139\\t0                                                                                                                                  \n",
      "54556  \\t0\\tNaN\\t1\\t0\\t0\\t0\\t0\\t85\\t85\\t0\\t0\\t169\\t27...                                                                                                                                  \n",
      "54557   \\t0\\tNaN\\t1\\t0\\t0\\t0\\t0\\t49\\t49\\t0\\t0\\t18\\t45\\t0                                                                                                                                  \n",
      "54558  \\t0\\tNaN\\t1\\t0\\t0\\t0\\t0\\t30\\t30\\t0\\t0\\t53\\t506\\t0                                                                                                                                  \n",
      "54559  \\t0\\tNaN\\t1\\t0\\t0\\t0\\t0\\t10\\t10\\t0\\t0\\t109\\t11...                                                                                                                                  \n",
      "54560   \\t0\\tNaN\\t1\\t0\\t0\\t0\\t0\\t77\\t77\\t0\\t0\\t11\\t38\\t0                                                                                                                                  \n",
      "54561    \\t0\\tNaN\\t1\\t0\\t0\\t0\\t0\\t14\\t14\\t0\\t0\\t9\\t87\\t0                                                                                                                                  \n",
      "54562  \\t0\\tNaN\\t3\\t0\\t28.22917\\t0\\t-7.932672\\t26\\t26...                                                                                                                                  \n",
      "54563  \\t0\\tNaN\\t1\\t0\\t0\\t0\\t0\\t48\\t48\\t0\\t0\\t39\\t139\\t0                                                                                                                                  \n",
      "54564  \\t0\\tNaN\\t1\\t0\\t0\\t0\\t0\\t38\\t38\\t0\\t0\\t26\\t117\\t0                                                                                                                                  \n",
      "54565  \\t0\\tNaN\\t1\\t0\\t0\\t0\\t0\\t70\\t70\\t0\\t0\\t171\\t50...                                                                                                                                  \n",
      "54566  \\t0\\tNaN\\t2\\t0\\t8.541667\\t0\\t-14.23707\\t18\\t18...                                                                                                                                  \n",
      "54567  \\t0\\tNaN\\t1\\t0\\t0\\t0\\t0\\t71\\t71\\t0\\t0\\t63\\t254\\t0                                                                                                                                  \n",
      "54568  \\t0\\tNaN\\t1\\t0\\t0\\t0\\t0\\t185\\t185\\t0\\t0\\t184\\t...                                                                                                                                  \n",
      "54569  \\t0\\tNaN\\t1\\t0\\t0\\t0\\t0\\t95\\t95\\t0\\t0\\t164\\t24...                                                                                                                                  \n",
      "54570  \\t0\\tNaN\\t1\\t0\\t0\\t0\\t0\\t134\\t134\\t0\\t0\\t174\\t...                                                                                                                                  \n",
      "54571  \\t0\\tNaN\\t10\\t0\\t7.101852\\t0\\t3.137754\\t3\\t3\\t...                                                                                                                                  \n",
      "54572  \\t0\\tNaN\\t1\\t0\\t0\\t0\\t0\\t109\\t109\\t0\\t0\\t143\\t...                                                                                                                                  \n",
      "54573  \\t0\\tNaN\\t1\\t0\\t0\\t0\\t0\\t57\\t57\\t0\\t0\\t164\\t19...                                                                                                                                  \n",
      "54574  \\t0\\tNaN\\t2\\t0\\t131.0833\\t0\\t34.6785\\t30\\t30\\t...                                                                                                                                  \n",
      "54575  \\t0\\tNaN\\t1\\t0\\t0\\t0\\t0\\t181\\t181\\t0\\t0\\t22\\t1...                                                                                                                                  \n",
      "54576  \\t0\\tNaN\\t1\\t0\\t0\\t0\\t0\\t69\\t69\\t0\\t0\\t95\\t187\\t0                                                                                                                                  \n",
      "54577  \\t0\\tNaN\\t1\\t0\\t0\\t0\\t0\\t119\\t119\\t0\\t0\\t103\\t...                                                                                                                                  \n",
      "54578    \\t0\\tNaN\\t1\\t0\\t0\\t0\\t0\\t37\\t37\\t0\\t0\\t1\\t22\\t0                                                                                                                                  \n",
      "54579  \\t0\\tNaN\\t3\\t0\\t30.97917\\t0\\t12.62124\\t8\\t8\\t0...                                                                                                                                  \n",
      "54580  \\t0\\tNaN\\t2\\t0\\t1.041667\\t0\\t-.9167125\\t1\\t1\\t...                                                                                                                                  \n",
      "54581  \\t0\\tNaN\\t1\\t0\\t0\\t0\\t0\\t20\\t20\\t0\\t0\\t132\\t55...                                                                                                                                  \n",
      "54582  \\t0\\tNaN\\t1\\t0\\t0\\t0\\t0\\t180\\t180\\t0\\t0\\t71\\t4...                                                                                                                                  \n",
      "54583  \\t0\\tNaN\\t1\\t0\\t0\\t0\\t0\\t185\\t185\\t0\\t0\\t77\\t4...                                                                                                                                  \n",
      "\n",
      "[54584 rows x 1 columns]>\n"
     ]
    }
   ],
   "source": [
    "summary = getDfSummary(ads_dataset)\n",
    "print( summary )"
   ]
  },
  {
   "cell_type": "markdown",
   "metadata": {},
   "source": [
    "5\\. Using the results returned from `getDfSummary()`, which fields, if any, have a spread of 1? Full credit will be given for a code based approach that prints out the correct field names. Partial credit will be given if you simply manually explore the results of `getDfSummary()`. Print each field name on a line by itself."
   ]
  },
  {
   "cell_type": "code",
   "execution_count": 21,
   "metadata": {
    "scrolled": true
   },
   "outputs": [
    {
     "ename": "TypeError",
     "evalue": "'method' object is not subscriptable",
     "output_type": "error",
     "traceback": [
      "\u001b[1;31m---------------------------------------------------------------------------\u001b[0m",
      "\u001b[1;31mTypeError\u001b[0m                                 Traceback (most recent call last)",
      "\u001b[1;32m<ipython-input-21-47f8a3d2f473>\u001b[0m in \u001b[0;36m<module>\u001b[1;34m()\u001b[0m\n\u001b[0;32m      1\u001b[0m \u001b[1;32mfor\u001b[0m \u001b[0mfield\u001b[0m \u001b[1;32min\u001b[0m \u001b[1;33m[\u001b[0m\u001b[1;34m'spread'\u001b[0m\u001b[1;33m]\u001b[0m\u001b[1;33m:\u001b[0m\u001b[1;33m\u001b[0m\u001b[0m\n\u001b[1;32m----> 2\u001b[1;33m     \u001b[0msummary\u001b[0m\u001b[1;33m[\u001b[0m\u001b[0mfield\u001b[0m\u001b[1;33m]\u001b[0m \u001b[1;33m=\u001b[0m \u001b[1;33m(\u001b[0m\u001b[0msummary\u001b[0m\u001b[1;33m[\u001b[0m\u001b[0mfield\u001b[0m\u001b[1;33m]\u001b[0m \u001b[1;33m==\u001b[0m \u001b[1;34m\"1\"\u001b[0m\u001b[1;33m)\u001b[0m\u001b[1;33m.\u001b[0m\u001b[0mastype\u001b[0m\u001b[1;33m(\u001b[0m\u001b[1;34m'0'\u001b[0m\u001b[1;33m)\u001b[0m\u001b[1;33m\u001b[0m\u001b[0m\n\u001b[0m",
      "\u001b[1;31mTypeError\u001b[0m: 'method' object is not subscriptable"
     ]
    }
   ],
   "source": [
    "for field in ['spread']:\n",
    "    summary[field] = (summary[field] == \"1\").astype('0')"
   ]
  },
  {
   "cell_type": "markdown",
   "metadata": {},
   "source": [
    "6\\. For the fields that have a spread of 1, what percentage of records have the value of `1`? You may assume that if a field had a spread of 1 that it only has values 1 and 0.\n",
    "\n",
    "Full credit will be given for a code based approach that prints out the correct field names **and** their respective percentages. Partial credit will be given if you simply manually explore the results of `getDfSummary()`. (*Hint: Using the `pandas` function `.get_value()` may be useful if you happen to know the row and column name you want.*)\n",
    "\n",
    "Your results should look something like this:\n",
    "\n",
    "`The field` **`xxx`** `has` **`yyy`** `percent of its records set to 1.`"
   ]
  },
  {
   "cell_type": "code",
   "execution_count": 23,
   "metadata": {},
   "outputs": [
    {
     "ename": "SyntaxError",
     "evalue": "invalid syntax (<ipython-input-23-0b405959feaa>, line 2)",
     "output_type": "error",
     "traceback": [
      "\u001b[1;36m  File \u001b[1;32m\"<ipython-input-23-0b405959feaa>\"\u001b[1;36m, line \u001b[1;32m2\u001b[0m\n\u001b[1;33m    y=getDfSummary().getvalue(>==1)\u001b[0m\n\u001b[1;37m                               ^\u001b[0m\n\u001b[1;31mSyntaxError\u001b[0m\u001b[1;31m:\u001b[0m invalid syntax\n"
     ]
    }
   ],
   "source": [
    "x=spread\n",
    "z\n",
    "y=getDfSummary().getvalue(z>=1)\n",
    "print (\"The field \" + str(x) + \"has\"+ str(y)+\"percent of its records set to 1.\")"
   ]
  },
  {
   "cell_type": "markdown",
   "metadata": {},
   "source": [
    "### Question 2. Functions, loops and plotting"
   ]
  },
  {
   "cell_type": "markdown",
   "metadata": {},
   "source": [
    "1\\. Write a function called `squared_less_100()` that takes a single number, squares it, and then returns the square minus 100."
   ]
  },
  {
   "cell_type": "code",
   "execution_count": 24,
   "metadata": {},
   "outputs": [],
   "source": [
    "def squared_less_100(input_number):\n",
    "    output_number = (input_number*input_number)-100\n",
    "    \n",
    "    \n",
    "    return output_number"
   ]
  },
  {
   "cell_type": "markdown",
   "metadata": {},
   "source": [
    "2\\. Create three empty lists called `sl1_results`, `absolute_results`, `log_results`."
   ]
  },
  {
   "cell_type": "code",
   "execution_count": 37,
   "metadata": {},
   "outputs": [],
   "source": [
    "sl1_results = []\n",
    "absolute_results = []\n",
    "log_results = []"
   ]
  },
  {
   "cell_type": "markdown",
   "metadata": {},
   "source": [
    "3\\. Create a list of integers from 1 to 20 (including both 1 and 20) called `original_set`. Loop through this list and apply your `squared_less_100()` function, the `numpy` function for finding absolute value, and the `numpy` natural log function. Store the result of each function by appending it the the initially empty lists you created in Part 4 Question 2. (*Hint: If you don't know what the `numpy` functions for absolute value or natural logs are, simply search online and it will be one of the first results. Although, you can probably guess what they would be!*)"
   ]
  },
  {
   "cell_type": "code",
   "execution_count": 39,
   "metadata": {},
   "outputs": [
    {
     "ename": "IndentationError",
     "evalue": "unexpected indent (<ipython-input-39-e90323f0b2e6>, line 7)",
     "output_type": "error",
     "traceback": [
      "\u001b[1;36m  File \u001b[1;32m\"<ipython-input-39-e90323f0b2e6>\"\u001b[1;36m, line \u001b[1;32m7\u001b[0m\n\u001b[1;33m    absresult= np.abs(result)\u001b[0m\n\u001b[1;37m    ^\u001b[0m\n\u001b[1;31mIndentationError\u001b[0m\u001b[1;31m:\u001b[0m unexpected indent\n"
     ]
    }
   ],
   "source": [
    "# Code here!\n",
    "\n",
    "import numpy as np\n",
    " \n",
    "for number in range(1,20):\n",
    "    sll_results = squared_less_100(number)\n",
    "     absresult= np.abs(sll_results)\n",
    "    logresult= np.log(sll_results)\n",
    "   \n",
    "       absolute_results.append( absresult )\n",
    "        log_results.append(logresult)\n",
    "        sll_results.append(sll_results)\n",
    "    # Code here!"
   ]
  },
  {
   "cell_type": "markdown",
   "metadata": {},
   "source": [
    "4\\. Create a plot of your results. On the x-axis put `original_set`. Now, all within the **same plot** put a line for the `sl1_results`, a line for `absolute_results`, and a line for `log_results`. Don't forget to add a legend so that I know which line is for which set of results!"
   ]
  },
  {
   "cell_type": "code",
   "execution_count": 25,
   "metadata": {},
   "outputs": [],
   "source": [
    "import matplotlib.pyplot as plt\n",
    "%matplotlib inline\n",
    "plt.plot(sl1_results, label=\"sll_results\")\n",
    "plt.plot(absolute_results, label=\"absolute_results\")\n",
    "plt.plot(log_results, label=\"log_results\")\n",
    "plt.ylabel(\"count\")\n",
    "plt.xlabel(\"original_set\")\n",
    "plt.legend()\n",
    "plt.show()"
   ]
  },
  {
   "cell_type": "markdown",
   "metadata": {},
   "source": [
    "### Question 3: Decision trees vs. Linear discriminant models\n",
    "What are the similarities and differences of decision trees and linear discriminant models? When might you prefer to use one over another? **This explanation should be around 1 paragraph"
   ]
  },
  {
   "cell_type": "markdown",
   "metadata": {},
   "source": [
    "The core idea of LDA is to project the high-dimensional sample projection (project) to the low dimension, and if it is to be divided into two classes, it will be projected to one dimension.You have three types of projection onto a two-dimensional plane.There are, of course, many different ways to project such a projection, and the standard for LDA projection is to get the same sample as close as possible, and not to be as separate as possible.For future samples, it is easy to identify categories by projecting them in the same way.Usage scenario: the discriminant analysis is applicable to the dimensionality reduction of high-dimensional data, and the built-in reduction function enables us to observe the sample distribution conveniently.Its correctness has a mathematical formula to prove it, so it's also a very good way to get it.But its classification accuracy is often not very high, so it is not the statistical department to use it as a health maintenance tool.Also note that it assumes that the sample is in a normal distribution, so don't try that concentric circular data.\n",
    "\n",
    "The characteristic of a decision tree is that it always cuts along features.As the layers go up and down, the division gets smaller and smaller.Although the generated trees are not easy to be seen by users, when analyzing the data, by observing the superstructure of the tree, it can have an intuitive feel to the core idea of the classifier.For a simple example, when we predict the height of a child, the first layer of the decision tree may be the child's gender.The boy went to the left tree for further prediction, and the girl went to the right tree.This suggests that gender has a strong influence on height.Applicable scenario: because it can produce clear based on the characteristics of (feature) choose different forecast results of tree structure, data analysts hope that a better understanding of hand can often use the decision tree of data.It is also a relatively easy to attack classifier .The attack here refers to the artificial alteration of some features, which makes the classifier misjudge.It is common in spam avoidance detection.Because the decision tree is ultimately based on a single condition, the attacker often needs to change very few features to escape detection.Constrained by its simplicity, the greater use of decision trees is the cornerstone of some more useful algorithms."
   ]
  },
  {
   "cell_type": "markdown",
   "metadata": {},
   "source": [
    "### Question 4. Modeling"
   ]
  },
  {
   "cell_type": "markdown",
   "metadata": {},
   "source": [
    "For your hands-on excercise, I am going to ask you to build two different models and show me the impact of training/fitting them with different amounts of data. For this example we will be using the `data/cell2cell.csv` data.\n",
    "\n",
    "These historical data consist of 31,892 customers: 15,855 customers that churned (i.e., left the company) and 16,036 that did not churn. Here are the data set's 12 columns:\n",
    "\n",
    "```\n",
    "Col.  Var. Name  Var. Description\n",
    "----- ---------- --------------------------------------------------------------\n",
    "1     revenue    Mean monthly revenue in dollars\n",
    "2     outcalls   Mean number of outbound voice calls\n",
    "3     incalls    Mean number of inbound voice calls\n",
    "4     months     Months in Service\n",
    "5     eqpdays    Number of days the customer has had his/her current equipment\n",
    "6     webcap     Handset is web capable\n",
    "7     marryyes   Married (1=Yes; 0=No)\n",
    "8     travel     Has traveled to non-US country (1=Yes; 0=No)\n",
    "9     pcown      Owns a personal computer (1=Yes; 0=No)\n",
    "10    creditcd   Possesses a credit card (1=Yes; 0=No)\n",
    "11    retcalls   Number of calls previously made to retention team\n",
    "12    churndep   Did the customer churn (1=Yes; 0=No)\n",
    "```\n",
    "\n",
    "The first 11 columns are our attributes/features. The last column, `\"churndep\"`, is the target variable."
   ]
  },
  {
   "cell_type": "markdown",
   "metadata": {},
   "source": [
    "1\\. Now you should create a decision tree using entropy with no max depth and a logistic regression. For each of these models, assign 10% to 90% of the data to training (in increments of 10%) and the rest to test. For each training set, you need to fit both models and then get the accuracy on the remaining data used for test for both models. \n",
    "\n",
    "Then create a plot where the x-axis includes 0.10 to 0.90 (one tick for each training data percentage) and the y-axis indicates accuracy. Your plot should have two lines/curves on it: one for the decision tree and one for logistic regression. \n",
    "\n",
    "Follow the template provided."
   ]
  },
  {
   "cell_type": "code",
   "execution_count": null,
   "metadata": {},
   "outputs": [],
   "source": [
    "import pandas as pd\n",
    "from sklearn.cross_validation import train_test_split\n",
    "from sklearn.tree import DecisionTreeClassifier\n",
    "from sklearn.linear_model import LogisticRegression\n",
    "from sklearn.metrics import accuracy_score\n",
    "import matplotlib.pylab as plt\n",
    "%matplotlib inline\n",
    "\n",
    "# Read in our csv data\n",
    "data = pd.read_csv(\"data/cell2cell.csv\")\n",
    "\n",
    "# Put all features into X and the target variable into Y\n",
    "X = data.drop(...)\n",
    "Y = data[...]\n",
    "\n",
    "# Prepare to do some training and testing\n",
    "training_percentages = [0.10, 0.20, 0.30, 0.40, 0.50, 0.60, 0.70, 0.80, 0.90]\n",
    "tree_accuracies = []\n",
    "logistic_accuracies = []\n",
    "\n",
    "# Loop through your training percentages, split your data with each percentage, \n",
    "#  create both models, fit/train both models, predict with your models and \n",
    "#  append each accuracy to the correct list\n",
    "for training_percentage in training_percentages:\n",
    "    ... = train_test_split(...)\n",
    "    \n",
    "    # Create both models\n",
    "    tree = ...\n",
    "    logistic = ...\n",
    "    \n",
    "    # Fit both models\n",
    "    tree. ...\n",
    "    logistic. ...\n",
    "    \n",
    "    # Get predictions from both models\n",
    "    Y_test_predicted_tree = tree.predict(...)\n",
    "    Y_test_predicted_logistic = logistic.predict(...)\n",
    "\n",
    "    # Get the accuracy for the models' predictions\n",
    "    tree_acc = accuracy_score(...)\n",
    "    logistic_acc = accuracy_score(...)\n",
    "    \n",
    "    # Now that I have a tree and logistic accuracy, I should add them to my list of accuracies\n",
    "    tree_accuracies. ...\n",
    "    logistic_accuracies. ...\n",
    "    \n",
    "# Plot two curves on one plot. Don't forget labels and your legend\n",
    "plt.plot(...)\n",
    "plt.plot(...)"
   ]
  },
  {
   "cell_type": "markdown",
   "metadata": {},
   "source": [
    "2\\. Interpret the plots and what they can tell us about the model performance. What is the relationship between the amount of training data and the model performance that is shown in the curves for the logistic regression model and the decision tree?"
   ]
  },
  {
   "cell_type": "code",
   "execution_count": null,
   "metadata": {},
   "outputs": [],
   "source": [
    "the more data, the higher perfomance."
   ]
  }
 ],
 "metadata": {
  "kernelspec": {
   "display_name": "Python 3",
   "language": "python",
   "name": "python3"
  },
  "language_info": {
   "codemirror_mode": {
    "name": "ipython",
    "version": 3
   },
   "file_extension": ".py",
   "mimetype": "text/x-python",
   "name": "python",
   "nbconvert_exporter": "python",
   "pygments_lexer": "ipython3",
   "version": "3.6.4"
  }
 },
 "nbformat": 4,
 "nbformat_minor": 1
}
