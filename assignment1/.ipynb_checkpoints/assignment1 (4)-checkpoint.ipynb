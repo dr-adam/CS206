{
 "cells": [
  {
   "cell_type": "markdown",
   "metadata": {},
   "source": [
    "## Assignment 1"
   ]
  },
  {
   "cell_type": "markdown",
   "metadata": {},
   "source": [
    "Student Name: Daniel Babbev\n",
    "\n",
    "Student id: 11712624\n",
    "***\n",
    "\n",
    "Deadline: March 31"
   ]
  },
  {
   "cell_type": "markdown",
   "metadata": {},
   "source": [
    "### Question 1: Dealing with data Pythonically"
   ]
  },
  {
   "cell_type": "code",
   "execution_count": 1,
   "metadata": {
    "collapsed": true
   },
   "outputs": [],
   "source": [
    "# You might find these packages useful. You may import any others you want!\n",
    "import pandas as pd\n",
    "import numpy as np"
   ]
  },
  {
   "cell_type": "markdown",
   "metadata": {},
   "source": [
    "1\\. The file `\"data/ads_dataset.tsv\"` uses tabs instead of commas to separate fields. Load the data set `\"data/ads_dataset.tsv\"` into a Python `pandas` data frame called `ads`. If you are using the `read_csv()` function you will need to know that `\"\\t\"` means tab when trying to set the delimeter."
   ]
  },
  {
   "cell_type": "code",
   "execution_count": 2,
   "metadata": {
    "collapsed": true
   },
   "outputs": [],
   "source": [
    "# Place your code here\n",
    "ads = pd.read_csv(\"data/ads_dataset.tsv\", sep=\"\\t\")"
   ]
  },
  {
   "cell_type": "markdown",
   "metadata": {},
   "source": [
    "2\\. Write a Python function called `getDfSummary()` that does the following:\n",
    "- Takes as input a data frame\n",
    "- Creates a new data frame called `output_data` that:\n",
    "  - Consists of the output of the `pandas` function `describe()`. (*Hint: Check the `pandas` [(manual page)](http://pandas.pydata.org/pandas-docs/stable/generated/pandas.DataFrame.describe.html) for this function if you want to learn more.*)\n",
    "  - The data frame `output_data` should have the original feature names from `input_data` as **rows**. (*Hint: Are they rows by default? If not, how could you make them rows?*)\n",
    "  - Adds a column called `spread` that is the result of subtracting the `min` from the `max`. (*Hint: What does the `describe()` function return? Do we have a column called `max` and `min`?*)\n",
    "- Returns the new `output_data` data frame."
   ]
  },
  {
   "cell_type": "code",
   "execution_count": 3,
   "metadata": {
    "collapsed": true
   },
   "outputs": [],
   "source": [
    "def getDfSummary(input_data):\n",
    "    # Place your code here\n",
    "    desc = input_data.describe()\n",
    "    output_data = desc.transpose()\n",
    "    output_data[\"spread\"] = desc.iloc[desc.index.get_loc(\"max\")] - desc.iloc[desc.index.get_loc(\"min\")]\n",
    "\n",
    "    return output_data"
   ]
  },
  {
   "cell_type": "markdown",
   "metadata": {},
   "source": [
    "3\\. How long does it take for your `getDfSummary()` function to work on your `ads` data frame? Show us the results below.\n",
    "\n",
    "*Hint: `%timeit getDfSummary(ads)`*"
   ]
  },
  {
   "cell_type": "code",
   "execution_count": 4,
   "metadata": {},
   "outputs": [
    {
     "name": "stdout",
     "output_type": "stream",
     "text": [
      "42.6 ms ± 1.97 ms per loop (mean ± std. dev. of 7 runs, 10 loops each)\n"
     ]
    }
   ],
   "source": [
    "# Place your code here\n",
    "%timeit getDfSummary(ads)"
   ]
  },
  {
   "cell_type": "markdown",
   "metadata": {},
   "source": [
    "4\\. Show the output of the `getDfSummary()` function you created."
   ]
  },
  {
   "cell_type": "code",
   "execution_count": 5,
   "metadata": {},
   "outputs": [
    {
     "data": {
      "text/html": [
       "<div>\n",
       "<style>\n",
       "    .dataframe thead tr:only-child th {\n",
       "        text-align: right;\n",
       "    }\n",
       "\n",
       "    .dataframe thead th {\n",
       "        text-align: left;\n",
       "    }\n",
       "\n",
       "    .dataframe tbody tr th {\n",
       "        vertical-align: top;\n",
       "    }\n",
       "</style>\n",
       "<table border=\"1\" class=\"dataframe\">\n",
       "  <thead>\n",
       "    <tr style=\"text-align: right;\">\n",
       "      <th></th>\n",
       "      <th>count</th>\n",
       "      <th>mean</th>\n",
       "      <th>std</th>\n",
       "      <th>min</th>\n",
       "      <th>25%</th>\n",
       "      <th>50%</th>\n",
       "      <th>75%</th>\n",
       "      <th>max</th>\n",
       "      <th>spread</th>\n",
       "    </tr>\n",
       "  </thead>\n",
       "  <tbody>\n",
       "    <tr>\n",
       "      <th>isbuyer</th>\n",
       "      <td>54584.0</td>\n",
       "      <td>0.042632</td>\n",
       "      <td>0.202027</td>\n",
       "      <td>0.0000</td>\n",
       "      <td>0.0</td>\n",
       "      <td>0.0</td>\n",
       "      <td>0.000000</td>\n",
       "      <td>1.00000</td>\n",
       "      <td>1.00000</td>\n",
       "    </tr>\n",
       "    <tr>\n",
       "      <th>buy_freq</th>\n",
       "      <td>2327.0</td>\n",
       "      <td>1.240653</td>\n",
       "      <td>0.782228</td>\n",
       "      <td>1.0000</td>\n",
       "      <td>1.0</td>\n",
       "      <td>1.0</td>\n",
       "      <td>1.000000</td>\n",
       "      <td>15.00000</td>\n",
       "      <td>14.00000</td>\n",
       "    </tr>\n",
       "    <tr>\n",
       "      <th>visit_freq</th>\n",
       "      <td>54584.0</td>\n",
       "      <td>1.852777</td>\n",
       "      <td>2.921820</td>\n",
       "      <td>0.0000</td>\n",
       "      <td>1.0</td>\n",
       "      <td>1.0</td>\n",
       "      <td>2.000000</td>\n",
       "      <td>84.00000</td>\n",
       "      <td>84.00000</td>\n",
       "    </tr>\n",
       "    <tr>\n",
       "      <th>buy_interval</th>\n",
       "      <td>54584.0</td>\n",
       "      <td>0.210008</td>\n",
       "      <td>3.922016</td>\n",
       "      <td>0.0000</td>\n",
       "      <td>0.0</td>\n",
       "      <td>0.0</td>\n",
       "      <td>0.000000</td>\n",
       "      <td>174.62500</td>\n",
       "      <td>174.62500</td>\n",
       "    </tr>\n",
       "    <tr>\n",
       "      <th>sv_interval</th>\n",
       "      <td>54584.0</td>\n",
       "      <td>5.825610</td>\n",
       "      <td>17.595442</td>\n",
       "      <td>0.0000</td>\n",
       "      <td>0.0</td>\n",
       "      <td>0.0</td>\n",
       "      <td>0.104167</td>\n",
       "      <td>184.91670</td>\n",
       "      <td>184.91670</td>\n",
       "    </tr>\n",
       "    <tr>\n",
       "      <th>expected_time_buy</th>\n",
       "      <td>54584.0</td>\n",
       "      <td>-0.198040</td>\n",
       "      <td>4.997792</td>\n",
       "      <td>-181.9238</td>\n",
       "      <td>0.0</td>\n",
       "      <td>0.0</td>\n",
       "      <td>0.000000</td>\n",
       "      <td>84.28571</td>\n",
       "      <td>266.20951</td>\n",
       "    </tr>\n",
       "    <tr>\n",
       "      <th>expected_time_visit</th>\n",
       "      <td>54584.0</td>\n",
       "      <td>-10.210786</td>\n",
       "      <td>31.879722</td>\n",
       "      <td>-187.6156</td>\n",
       "      <td>0.0</td>\n",
       "      <td>0.0</td>\n",
       "      <td>0.000000</td>\n",
       "      <td>91.40192</td>\n",
       "      <td>279.01752</td>\n",
       "    </tr>\n",
       "    <tr>\n",
       "      <th>last_buy</th>\n",
       "      <td>54584.0</td>\n",
       "      <td>64.729335</td>\n",
       "      <td>53.476658</td>\n",
       "      <td>0.0000</td>\n",
       "      <td>18.0</td>\n",
       "      <td>51.0</td>\n",
       "      <td>105.000000</td>\n",
       "      <td>188.00000</td>\n",
       "      <td>188.00000</td>\n",
       "    </tr>\n",
       "    <tr>\n",
       "      <th>last_visit</th>\n",
       "      <td>54584.0</td>\n",
       "      <td>64.729335</td>\n",
       "      <td>53.476658</td>\n",
       "      <td>0.0000</td>\n",
       "      <td>18.0</td>\n",
       "      <td>51.0</td>\n",
       "      <td>105.000000</td>\n",
       "      <td>188.00000</td>\n",
       "      <td>188.00000</td>\n",
       "    </tr>\n",
       "    <tr>\n",
       "      <th>multiple_buy</th>\n",
       "      <td>54584.0</td>\n",
       "      <td>0.006357</td>\n",
       "      <td>0.079479</td>\n",
       "      <td>0.0000</td>\n",
       "      <td>0.0</td>\n",
       "      <td>0.0</td>\n",
       "      <td>0.000000</td>\n",
       "      <td>1.00000</td>\n",
       "      <td>1.00000</td>\n",
       "    </tr>\n",
       "    <tr>\n",
       "      <th>multiple_visit</th>\n",
       "      <td>54584.0</td>\n",
       "      <td>0.277444</td>\n",
       "      <td>0.447742</td>\n",
       "      <td>0.0000</td>\n",
       "      <td>0.0</td>\n",
       "      <td>0.0</td>\n",
       "      <td>1.000000</td>\n",
       "      <td>1.00000</td>\n",
       "      <td>1.00000</td>\n",
       "    </tr>\n",
       "    <tr>\n",
       "      <th>uniq_urls</th>\n",
       "      <td>54584.0</td>\n",
       "      <td>86.569343</td>\n",
       "      <td>61.969765</td>\n",
       "      <td>-1.0000</td>\n",
       "      <td>30.0</td>\n",
       "      <td>75.0</td>\n",
       "      <td>155.000000</td>\n",
       "      <td>206.00000</td>\n",
       "      <td>207.00000</td>\n",
       "    </tr>\n",
       "    <tr>\n",
       "      <th>num_checkins</th>\n",
       "      <td>54584.0</td>\n",
       "      <td>720.657592</td>\n",
       "      <td>1275.727306</td>\n",
       "      <td>1.0000</td>\n",
       "      <td>127.0</td>\n",
       "      <td>319.0</td>\n",
       "      <td>802.000000</td>\n",
       "      <td>37091.00000</td>\n",
       "      <td>37090.00000</td>\n",
       "    </tr>\n",
       "    <tr>\n",
       "      <th>y_buy</th>\n",
       "      <td>54584.0</td>\n",
       "      <td>0.004635</td>\n",
       "      <td>0.067924</td>\n",
       "      <td>0.0000</td>\n",
       "      <td>0.0</td>\n",
       "      <td>0.0</td>\n",
       "      <td>0.000000</td>\n",
       "      <td>1.00000</td>\n",
       "      <td>1.00000</td>\n",
       "    </tr>\n",
       "  </tbody>\n",
       "</table>\n",
       "</div>"
      ],
      "text/plain": [
       "                       count        mean          std       min    25%    50%  \\\n",
       "isbuyer              54584.0    0.042632     0.202027    0.0000    0.0    0.0   \n",
       "buy_freq              2327.0    1.240653     0.782228    1.0000    1.0    1.0   \n",
       "visit_freq           54584.0    1.852777     2.921820    0.0000    1.0    1.0   \n",
       "buy_interval         54584.0    0.210008     3.922016    0.0000    0.0    0.0   \n",
       "sv_interval          54584.0    5.825610    17.595442    0.0000    0.0    0.0   \n",
       "expected_time_buy    54584.0   -0.198040     4.997792 -181.9238    0.0    0.0   \n",
       "expected_time_visit  54584.0  -10.210786    31.879722 -187.6156    0.0    0.0   \n",
       "last_buy             54584.0   64.729335    53.476658    0.0000   18.0   51.0   \n",
       "last_visit           54584.0   64.729335    53.476658    0.0000   18.0   51.0   \n",
       "multiple_buy         54584.0    0.006357     0.079479    0.0000    0.0    0.0   \n",
       "multiple_visit       54584.0    0.277444     0.447742    0.0000    0.0    0.0   \n",
       "uniq_urls            54584.0   86.569343    61.969765   -1.0000   30.0   75.0   \n",
       "num_checkins         54584.0  720.657592  1275.727306    1.0000  127.0  319.0   \n",
       "y_buy                54584.0    0.004635     0.067924    0.0000    0.0    0.0   \n",
       "\n",
       "                            75%          max       spread  \n",
       "isbuyer                0.000000      1.00000      1.00000  \n",
       "buy_freq               1.000000     15.00000     14.00000  \n",
       "visit_freq             2.000000     84.00000     84.00000  \n",
       "buy_interval           0.000000    174.62500    174.62500  \n",
       "sv_interval            0.104167    184.91670    184.91670  \n",
       "expected_time_buy      0.000000     84.28571    266.20951  \n",
       "expected_time_visit    0.000000     91.40192    279.01752  \n",
       "last_buy             105.000000    188.00000    188.00000  \n",
       "last_visit           105.000000    188.00000    188.00000  \n",
       "multiple_buy           0.000000      1.00000      1.00000  \n",
       "multiple_visit         1.000000      1.00000      1.00000  \n",
       "uniq_urls            155.000000    206.00000    207.00000  \n",
       "num_checkins         802.000000  37091.00000  37090.00000  \n",
       "y_buy                  0.000000      1.00000      1.00000  "
      ]
     },
     "execution_count": 5,
     "metadata": {},
     "output_type": "execute_result"
    }
   ],
   "source": [
    "# Place your code here\n",
    "summary_ads = getDfSummary(ads)\n",
    "summary_ads"
   ]
  },
  {
   "cell_type": "markdown",
   "metadata": {},
   "source": [
    "5\\. Using the results returned from `getDfSummary()`, which fields, if any, have a spread of 1? Full credit will be given for a code based approach that prints out the correct field names. Partial credit will be given if you simply manually explore the results of `getDfSummary()`. Print each field name on a line by itself."
   ]
  },
  {
   "cell_type": "code",
   "execution_count": 6,
   "metadata": {},
   "outputs": [
    {
     "name": "stdout",
     "output_type": "stream",
     "text": [
      "isbuyer\n",
      "multiple_buy\n",
      "multiple_visit\n",
      "y_buy\n"
     ]
    }
   ],
   "source": [
    "# Place your code here\n",
    "spread_one_fields = list()\n",
    "for i, r in summary_ads.iterrows():\n",
    "    if (r[\"spread\"] == 1):\n",
    "        spread_one_fields.append(i)\n",
    "        print(i)"
   ]
  },
  {
   "cell_type": "markdown",
   "metadata": {},
   "source": [
    "6\\. For the fields that have a spread of 1, what percentage of records have the value of `1`? You may assume that if a field had a spread of 1 that it only has values 1 and 0.\n",
    "\n",
    "Full credit will be given for a code based approach that prints out the correct field names **and** their respective percentages. Partial credit will be given if you simply manually explore the results of `getDfSummary()`. (*Hint: Using the `pandas` function `.get_value()` may be useful if you happen to know the row and column name you want.*)\n",
    "\n",
    "Your results should look something like this:\n",
    "\n",
    "`The field` **`xxx`** `has` **`yyy`** `percent of its records set to 1.`"
   ]
  },
  {
   "cell_type": "code",
   "execution_count": 7,
   "metadata": {},
   "outputs": [
    {
     "name": "stdout",
     "output_type": "stream",
     "text": [
      "The field isbuyer has 4.263 % of its recors set to 1\n",
      "The field multiple_buy has 0.636 % of its recors set to 1\n",
      "The field multiple_visit has 27.744 % of its recors set to 1\n",
      "The field y_buy has 0.464 % of its recors set to 1\n"
     ]
    }
   ],
   "source": [
    "# Place your code here\n",
    "for f in spread_one_fields:\n",
    "    ok = 0\n",
    "    for v in ads[f]:\n",
    "        if (v == 1):\n",
    "            ok += 1\n",
    "    print(\"The field {} has {:.3f} % of its recors set to 1\".format(f , ok / len(ads[f]) * 100))"
   ]
  },
  {
   "cell_type": "markdown",
   "metadata": {},
   "source": [
    "### Question 2. Functions, loops and plotting"
   ]
  },
  {
   "cell_type": "markdown",
   "metadata": {},
   "source": [
    "1\\. Write a function called `squared_less_100()` that takes a single number, squares it, and then returns the square minus 100."
   ]
  },
  {
   "cell_type": "code",
   "execution_count": 1,
   "metadata": {},
   "outputs": [],
   "source": [
    "def squared_less_100(input_number):\n",
    "    output_number = (input_number * input_number) - 100    \n",
    "    return output_number"
   ]
  },
  {
   "cell_type": "markdown",
   "metadata": {},
   "source": [
    "2\\. Create three empty lists called `sl1_results`, `absolute_results`, `log_results`."
   ]
  },
  {
   "cell_type": "code",
   "execution_count": 2,
   "metadata": {},
   "outputs": [],
   "source": [
    "sl1_results = list()\n",
    "absolute_results = list()\n",
    "log_results = list()"
   ]
  },
  {
   "cell_type": "markdown",
   "metadata": {},
   "source": [
    "3\\. Create a list of integers from 1 to 20 (including both 1 and 20) called `original_set`. Loop through this list and apply your `squared_less_100()` function, the `numpy` function for finding absolute value, and the `numpy` natural log function. Store the result of each function by appending it the the initially empty lists you created in Part 4 Question 2. (*Hint: If you don't know what the `numpy` functions for absolute value or natural logs are, simply search online and it will be one of the first results. Although, you can probably guess what they would be!*)"
   ]
  },
  {
   "cell_type": "code",
   "execution_count": 3,
   "metadata": {},
   "outputs": [
    {
     "name": "stderr",
     "output_type": "stream",
     "text": [
      "C:\\ProgramData\\Anaconda3\\lib\\site-packages\\ipykernel_launcher.py:9: RuntimeWarning: invalid value encountered in log\n",
      "  if __name__ == '__main__':\n",
      "C:\\ProgramData\\Anaconda3\\lib\\site-packages\\ipykernel_launcher.py:9: RuntimeWarning: divide by zero encountered in log\n",
      "  if __name__ == '__main__':\n"
     ]
    }
   ],
   "source": [
    "# Code here!\n",
    "import numpy as np\n",
    "original_set = list(range(1, 21))\n",
    "\n",
    "for i in original_set:\n",
    "    sl = squared_less_100(i)\n",
    "    sl1_results.append(sl)\n",
    "    absolute_results.append(np.absolute(sl))\n",
    "    log_results.append(np.log(sl))"
   ]
  },
  {
   "cell_type": "markdown",
   "metadata": {},
   "source": [
    "4\\. Create a plot of your results. On the x-axis put `original_set`. Now, all within the **same plot** put a line for the `sl1_results`, a line for `absolute_results`, and a line for `log_results`. Don't forget to add a legend so that I know which line is for which set of results!"
   ]
  },
  {
   "cell_type": "code",
   "execution_count": 4,
   "metadata": {},
   "outputs": [
    {
     "data": {
      "image/png": "[encoded data removed]",
      "text/plain": [
       "<matplotlib.figure.Figure at 0x1adca810940>"
      ]
     },
     "metadata": {},
     "output_type": "display_data"
    }
   ],
   "source": [
    "import matplotlib.pyplot as plt\n",
    "%matplotlib inline\n",
    "\n",
    "plt.plot(original_set, sl1_results, label=\"original\")\n",
    "plt.plot(original_set, absolute_results, label = \"absolute\")\n",
    "plt.plot(original_set, log_results, label=\"log\")\n",
    "plt.legend()\n",
    "plt.show()"
   ]
  },
  {
   "cell_type": "markdown",
   "metadata": {},
   "source": [
    "### Question 3: Decision trees vs. Linear discriminant models\n",
    "What are the similarities and differences of decision trees and linear discriminant models? When might you prefer to use one over another? **This explanation should be around 1 paragraph"
   ]
  },
  {
   "cell_type": "markdown",
   "metadata": {},
   "source": [
    "The difference between a decision tree and a linear discriminant model is that the decision tree partitions the data in a non-linear way with many leafs and branches using an information gain function, whereas a linear discriminant model separates the space of features in a linear way. Because a decision tree can form as many branches as possible (if a limit is not set) the model can easily get overfitted. On the other hand, the separation of features by a line makes the model more general and more immune to overfitting.\n",
    "\n",
    "The similarity between the two types of models is that both can be used for classification. There is no way to know in advance which model will be better suited to a particular dataset, so when faced with a classification problem we should try both and perform a k-fold cross validation to identify the better performer."
   ]
  },
  {
   "cell_type": "markdown",
   "metadata": {},
   "source": [
    "### Question 4. Modeling"
   ]
  },
  {
   "cell_type": "markdown",
   "metadata": {},
   "source": [
    "For your hands-on excercise, I am going to ask you to build two different models and show me the impact of training/fitting them with different amounts of data. For this example we will be using the `data/cell2cell.csv` data.\n",
    "\n",
    "These historical data consist of 31,892 customers: 15,855 customers that churned (i.e., left the company) and 16,036 that did not churn. Here are the data set's 12 columns:\n",
    "\n",
    "```\n",
    "Col.  Var. Name  Var. Description\n",
    "----- ---------- --------------------------------------------------------------\n",
    "1     revenue    Mean monthly revenue in dollars\n",
    "2     outcalls   Mean number of outbound voice calls\n",
    "3     incalls    Mean number of inbound voice calls\n",
    "4     months     Months in Service\n",
    "5     eqpdays    Number of days the customer has had his/her current equipment\n",
    "6     webcap     Handset is web capable\n",
    "7     marryyes   Married (1=Yes; 0=No)\n",
    "8     travel     Has traveled to non-US country (1=Yes; 0=No)\n",
    "9     pcown      Owns a personal computer (1=Yes; 0=No)\n",
    "10    creditcd   Possesses a credit card (1=Yes; 0=No)\n",
    "11    retcalls   Number of calls previously made to retention team\n",
    "12    churndep   Did the customer churn (1=Yes; 0=No)\n",
    "```\n",
    "\n",
    "The first 11 columns are our attributes/features. The last column, `\"churndep\"`, is the target variable."
   ]
  },
  {
   "cell_type": "markdown",
   "metadata": {},
   "source": [
    "1\\. Now you should create a decision tree using entropy with no max depth and a logistic regression. For each of these models, assign 10% to 90% of the data to training (in increments of 10%) and the rest to test. For each training set, you need to fit both models and then get the accuracy on the remaining data used for test for both models. \n",
    "\n",
    "Then create a plot where the x-axis includes 0.10 to 0.90 (one tick for each training data percentage) and the y-axis indicates accuracy. Your plot should have two lines/curves on it: one for the decision tree and one for logistic regression. \n",
    "\n",
    "Follow the template provided."
   ]
  },
  {
   "cell_type": "code",
   "execution_count": 2,
   "metadata": {},
   "outputs": [
    {
     "data": {
      "text/plain": [
       "<matplotlib.legend.Legend at 0x7f434767d470>"
      ]
     },
     "execution_count": 2,
     "metadata": {},
     "output_type": "execute_result"
    },
    {
     "data": {
      "image/png": "[encoded data removed]",
      "text/plain": [
       "<matplotlib.figure.Figure at 0x7f434758d2e8>"
      ]
     },
     "metadata": {},
     "output_type": "display_data"
    }
   ],
   "source": [
    "import pandas as pd\n",
    "from sklearn.cross_validation import train_test_split\n",
    "from sklearn.tree import DecisionTreeClassifier\n",
    "from sklearn.linear_model import LogisticRegression\n",
    "from sklearn.metrics import accuracy_score\n",
    "import matplotlib.pylab as plt\n",
    "%matplotlib inline\n",
    "\n",
    "# Read CSV\n",
    "data = pd.read_csv(\"data/cell2cell.csv\")\n",
    "data.head()\n",
    "\n",
    "# Prepare features into X and target into Y\n",
    "X = data.drop([\"churndep\"], axis=1)\n",
    "y = data[\"churndep\"]\n",
    "\n",
    "# Prepare to do some training and testing\n",
    "training_percentages = [0.10, 0.20, 0.30, 0.40, 0.50, 0.60, 0.70, 0.80, 0.90]\n",
    "tree_accuracies = []\n",
    "logistic_accuracies = []\n",
    "\n",
    "for training_percentage in training_percentages:\n",
    "    X_train, X_test, y_train, y_test = train_test_split(X, y, train_size = training_percentage)\n",
    "\n",
    "    # Create both models\n",
    "    tree = DecisionTreeClassifier(criterion='entropy')\n",
    "    logistic = LogisticRegression()\n",
    "\n",
    "    # Fit both models\n",
    "    tree.fit(X_train, y_train)\n",
    "    logistic.fit(X_train, y_train)\n",
    "    \n",
    "    # Get the predictions\n",
    "    Y_test_predicted_tree = tree.predict(X_test)\n",
    "    Y_test_predicted_logistic = logistic.predict(X_test)\n",
    "    \n",
    "    # Get accuaracy of both models\n",
    "    tree_acc = accuracy_score(y_test, Y_test_predicted_tree)\n",
    "    logistic_acc = accuracy_score(y_test, Y_test_predicted_logistic)\n",
    "    \n",
    "    tree_accuracies.append(tree_acc)\n",
    "    logistic_accuracies.append(logistic_acc)\n",
    "    \n",
    "plt.plot(training_percentages, tree_accuracies, label=\"tree\")\n",
    "plt.plot(training_percentages, logistic_accuracies, label=\"logistic\")\n",
    "plt.xlabel(\"Training percentage\")\n",
    "plt.ylabel(\"Accuracy\")\n",
    "plt.legend()"
   ]
  },
  {
   "cell_type": "markdown",
   "metadata": {},
   "source": [
    "2\\. Interpret the plots and what they can tell us about the model performance. What is the relationship between the amount of training data and the model performance that is shown in the curves for the logistic regression model and the decision tree?"
   ]
  },
  {
   "cell_type": "markdown",
   "metadata": {
    "collapsed": true
   },
   "source": [
    "The first thing to notice is that both models are very bad, as the accuracy is very close to 50%. The same 50% can be achieved with a completely random model. We also notice that the logistic regression model yields better results than the decision tree model every time.\n",
    "\n",
    "Further, we observe that the more training data we have in the train-test split, the better the accuracy gets. However, as the training data gets bigger, and subsequesntly as the testing data gets smaller, the results become more deceptive. The reason is that the less we test on unseen data, the less confident can we be in our accuracy metrics. This makes the model vulnerable to overfitting. A better technique to measure how good our model is would be k-fold cross validation.\n"
   ]
  },
  {
   "cell_type": "code",
   "execution_count": null,
   "metadata": {
    "collapsed": true
   },
   "outputs": [],
   "source": []
  }
 ],
 "metadata": {
  "kernelspec": {
   "display_name": "Python 3",
   "language": "python",
   "name": "python3"
  },
  "language_info": {
   "codemirror_mode": {
    "name": "ipython",
    "version": 3
   },
   "file_extension": ".py",
   "mimetype": "text/x-python",
   "name": "python",
   "nbconvert_exporter": "python",
   "pygments_lexer": "ipython3",
   "version": "3.6.4"
  }
 },
 "nbformat": 4,
 "nbformat_minor": 1
}
